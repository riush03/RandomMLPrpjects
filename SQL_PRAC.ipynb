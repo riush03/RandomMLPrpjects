{
 "cells": [
  {
   "cell_type": "code",
   "execution_count": 1,
   "id": "04b7d6fa",
   "metadata": {},
   "outputs": [],
   "source": [
    "import sqlite3"
   ]
  },
  {
   "cell_type": "code",
   "execution_count": 2,
   "id": "e6d0447b",
   "metadata": {},
   "outputs": [],
   "source": [
    "#creating a new sqlite database or connect to an existing database\n",
    "\"\"\"\n",
    "   If the specified database does not exist,the sqlite3.connect function \n",
    "   will create a new one\n",
    "\"\"\"\n",
    "conn = sqlite3.connect(\"my_database.db\")"
   ]
  },
  {
   "cell_type": "code",
   "execution_count": 3,
   "id": "469fc447",
   "metadata": {},
   "outputs": [],
   "source": [
    "#create a cursor object which allows you to execute commands\n",
    "cursor = conn.cursor()"
   ]
  },
  {
   "cell_type": "code",
   "execution_count": 4,
   "id": "244b1de2",
   "metadata": {},
   "outputs": [
    {
     "data": {
      "text/plain": [
       "<sqlite3.Cursor at 0x23c37f79640>"
      ]
     },
     "execution_count": 4,
     "metadata": {},
     "output_type": "execute_result"
    }
   ],
   "source": [
    "#CREATE TABLE statement is used to define the structure of a table including it name,columns and data types\n",
    "#create a table called users with columns id,name and email\n",
    "cursor.execute(\"\"\"\n",
    "CREATE TABLE IF NOT EXISTS users (\n",
    "  id INTEGER PRIMARY KEY,\n",
    "  name TEXT NOT NULL,\n",
    "  email TEXT NOT NULL UNIQUE\n",
    ")\n",
    "\"\"\")"
   ]
  },
  {
   "cell_type": "code",
   "execution_count": 5,
   "id": "252f2526",
   "metadata": {},
   "outputs": [
    {
     "data": {
      "text/plain": [
       "<sqlite3.Cursor at 0x23c37f79640>"
      ]
     },
     "execution_count": 5,
     "metadata": {},
     "output_type": "execute_result"
    }
   ],
   "source": [
    "#To insert data  into tables ,we use the INSERT INTO statement\n",
    "#insert new user the users table\n",
    "cursor.execute(\"\"\"\n",
    "INSERT INTO users (name,email)\n",
    "VALUES (?,?)\n",
    "\"\"\",(\"John Doe\",\"johndoe@example.com\"))"
   ]
  },
  {
   "cell_type": "code",
   "execution_count": 6,
   "id": "40e11a11",
   "metadata": {},
   "outputs": [],
   "source": [
    "#commit the transacation to save changes in the database\n",
    "conn.commit()"
   ]
  },
  {
   "cell_type": "code",
   "execution_count": 7,
   "id": "94ce0f74",
   "metadata": {},
   "outputs": [
    {
     "name": "stdout",
     "output_type": "stream",
     "text": [
      "(1, 'John Doe', 'johndoe@example.com')\n"
     ]
    }
   ],
   "source": [
    "#To query data from a table we use the SELECT statement\n",
    "# -> select all users from the users table\n",
    "cursor.execute(\"SELECT * FROM users\")\n",
    "\n",
    "#Fetch all rows from the result set\n",
    "rows = cursor.fetchall() #returns a list of tuples\n",
    "for row in rows:\n",
    "    print(row)"
   ]
  },
  {
   "cell_type": "code",
   "execution_count": 8,
   "id": "d27637df",
   "metadata": {},
   "outputs": [],
   "source": [
    "#To update data in a table we use the UPDATE statement\n",
    "# -> update the email and adress of a user\n",
    "cursor.execute(\"\"\"\n",
    "UPDATE users\n",
    "SET email = ?\n",
    "WHERE name = ?\n",
    "\"\"\",(\"new_email@example.com\",\"John Doe\"))\n",
    "\n",
    "#commit the transcation\n",
    "conn.commit()"
   ]
  },
  {
   "cell_type": "code",
   "execution_count": 9,
   "id": "5779b484",
   "metadata": {},
   "outputs": [],
   "source": [
    "#To delete data from a table we use DELETE FROM statement\n",
    "# -> Delete a user from the users tables\n",
    "cursor.execute(\"\"\"\n",
    "DELETE FROM users\n",
    "WHERE name = ?\n",
    "\"\"\",(\"John Doe\",))\n",
    "\n",
    "#commit the transaction\n",
    "conn.commit()"
   ]
  },
  {
   "cell_type": "code",
   "execution_count": 10,
   "id": "4014e9d5",
   "metadata": {},
   "outputs": [],
   "source": [
    "#starting a new data transcato use conn.begin()"
   ]
  },
  {
   "cell_type": "code",
   "execution_count": 13,
   "id": "7cae36f2",
   "metadata": {},
   "outputs": [
    {
     "data": {
      "text/plain": [
       "'\\n   try:\\n     #perform a databse operation\\n     cursor.execute(\"INSERT INTO users (name,email) VALUES (?,?)\",(\"Jane Doe\",\"Jane_doe@example.com\"))\\n     conn.commit()\\n    except sqlite3.Error as e:\\n      print(f\\'An error occured: {e}\\')\\n      conn.rollback()\\n'"
      ]
     },
     "execution_count": 13,
     "metadata": {},
     "output_type": "execute_result"
    }
   ],
   "source": [
    "#handiling errors\n",
    "\"\"\"\n",
    "   try:\n",
    "     #perform a databse operation\n",
    "     cursor.execute(\"INSERT INTO users (name,email) VALUES (?,?)\",(\"Jane Doe\",\"Jane_doe@example.com\"))\n",
    "     conn.commit()\n",
    "    except sqlite3.Error as e:\n",
    "      print(f'An error occured: {e}')\n",
    "      conn.rollback()\n",
    "\"\"\""
   ]
  },
  {
   "cell_type": "code",
   "execution_count": 14,
   "id": "78421863",
   "metadata": {},
   "outputs": [
    {
     "data": {
      "text/plain": [
       "<sqlite3.Cursor at 0x23c37f79640>"
      ]
     },
     "execution_count": 14,
     "metadata": {},
     "output_type": "execute_result"
    }
   ],
   "source": [
    "#Indexes can be used to speed up the process of searching and sorting data in a table\n",
    "#To create an index you can use CREATE INDEX statement\n",
    "cursor.execute(\"CREATE INDEX IF NOT EXISTS users_email_index ON users (email)\")"
   ]
  },
  {
   "cell_type": "code",
   "execution_count": 15,
   "id": "bde35ea5",
   "metadata": {},
   "outputs": [
    {
     "data": {
      "text/plain": [
       "<sqlite3.Cursor at 0x23c37f79640>"
      ]
     },
     "execution_count": 15,
     "metadata": {},
     "output_type": "execute_result"
    }
   ],
   "source": [
    "#Views are virtual tables that are based on the result of SELECT statement\n",
    "# -> create a new view thet return the user's name and email adress\n",
    "cursor.execute(\"\"\"\n",
    "CREATE VIEW IF NOT EXISTS user_info AS\n",
    "SELECT name,email\n",
    "FROM users\n",
    "\"\"\")"
   ]
  },
  {
   "cell_type": "code",
   "execution_count": 16,
   "id": "0cd9a9c0",
   "metadata": {},
   "outputs": [],
   "source": [
    "#View can be queried like regular tables \n",
    "cursor.execute(\"SELECT * FROM user_info\")\n",
    "\n",
    "#Fetch all rows from the result set\n",
    "rows = cursor.fetchall()\n",
    "#print the rows\n",
    "for row in rows:\n",
    "    print(row)"
   ]
  },
  {
   "cell_type": "code",
   "execution_count": 18,
   "id": "69e497f2",
   "metadata": {},
   "outputs": [
    {
     "data": {
      "text/plain": [
       "<sqlite3.Cursor at 0x23c37f79640>"
      ]
     },
     "execution_count": 18,
     "metadata": {},
     "output_type": "execute_result"
    }
   ],
   "source": [
    "#Triggers are database objects that are automatically executed when an event such as an INSERT,UPDATE or DELETE occurs on a \n",
    "#specified tables.\n",
    "#This can be used to perform actions such a enforcing data integrity,maintaining a history of changes or updating related tables\n",
    "# -> create a trigger that logs changes to the user tables\n",
    "cursor.execute(\"\"\"\n",
    "CREATE TRIGGER IF NOT EXISTS users_log_changes\n",
    "AFTER UPDATE ON users\n",
    "BEGIN\n",
    "    INSERT INTO users_log(user_id,old_email,new_email)\n",
    "    VALUES (old.id,old.email,new.email);\n",
    "END;\n",
    "\"\"\")"
   ]
  },
  {
   "cell_type": "code",
   "execution_count": 19,
   "id": "a49c779f",
   "metadata": {},
   "outputs": [
    {
     "data": {
      "text/plain": [
       "<sqlite3.Cursor at 0x23c37f79640>"
      ]
     },
     "execution_count": 19,
     "metadata": {},
     "output_type": "execute_result"
    }
   ],
   "source": [
    "#SQLite supports full-text search using the FTS3,FTS4 and FTS5 extensions\n",
    "#To use full-text search in SQLite , you need to create a virtual tables using the FTS extension and define the columns indexed\n",
    "cursor.execute(\"\"\"\n",
    "CREATE VIRTUAL TABLE IF NOT EXISTS users_fts USING fts5(name,email);\n",
    "\"\"\")"
   ]
  },
  {
   "cell_type": "code",
   "execution_count": 20,
   "id": "0554bea5",
   "metadata": {},
   "outputs": [
    {
     "data": {
      "text/plain": [
       "<sqlite3.Cursor at 0x23c37f79640>"
      ]
     },
     "execution_count": 20,
     "metadata": {},
     "output_type": "execute_result"
    }
   ],
   "source": [
    "#Use the MATCH operator to search for text in the index column\n",
    "cursor.execute(\"\"\"\n",
    "SELECT * FROM users_fts WHERE users_fts MATCH 'John Doe'\n",
    "\"\"\")"
   ]
  },
  {
   "cell_type": "code",
   "execution_count": null,
   "id": "05c99dae",
   "metadata": {},
   "outputs": [],
   "source": []
  }
 ],
 "metadata": {
  "kernelspec": {
   "display_name": "Python 3 (ipykernel)",
   "language": "python",
   "name": "python3"
  },
  "language_info": {
   "codemirror_mode": {
    "name": "ipython",
    "version": 3
   },
   "file_extension": ".py",
   "mimetype": "text/x-python",
   "name": "python",
   "nbconvert_exporter": "python",
   "pygments_lexer": "ipython3",
   "version": "3.10.9"
  }
 },
 "nbformat": 4,
 "nbformat_minor": 5
}
