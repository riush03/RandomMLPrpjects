{
 "cells": [
  {
   "cell_type": "code",
   "execution_count": 3,
   "id": "098dc931",
   "metadata": {},
   "outputs": [
    {
     "name": "stdout",
     "output_type": "stream",
     "text": [
      "[3, 6, 7, 8, 21, 5, 7, 9, 76, 3, 67, 5]\n"
     ]
    }
   ],
   "source": [
    "list_in_a_lists = [[3,6,7,8],[21,5,7,9],[76,3,67,5]]\n",
    "flattened_list = sum(list_in_a_lists,[])\n",
    "print(flattened_list)"
   ]
  },
  {
   "cell_type": "code",
   "execution_count": 4,
   "id": "5aa8615d",
   "metadata": {},
   "outputs": [
    {
     "name": "stdout",
     "output_type": "stream",
     "text": [
      "[3, 6, 7, 8, 21, 5, 7, 9, 76, 3, 67, 5]\n"
     ]
    }
   ],
   "source": [
    "#using a nested for loop\n",
    "flat_nest_list = []\n",
    "for sub_list in list_in_a_lists :\n",
    "    for num in sub_list:\n",
    "        flat_nest_list.append(num)\n",
    "        \n",
    "print(flat_nest_list)"
   ]
  },
  {
   "cell_type": "code",
   "execution_count": 6,
   "id": "7f899e3b",
   "metadata": {},
   "outputs": [
    {
     "name": "stdout",
     "output_type": "stream",
     "text": [
      "['Denis', 'Alex', 'Dominic', 'Dorcas', 'Edna', 'Edga']\n"
     ]
    }
   ],
   "source": [
    "names = [[\"Denis\",\"Alex\"],[\"Dominic\",\"Dorcas\"],[\"Edna\",\"Edga\"]]\n",
    "\n",
    "flattend_list_names = []\n",
    "for name in names:\n",
    "    for your_name in name:\n",
    "        flattend_list_names.append(your_name)\n",
    "print(flattend_list_names)"
   ]
  },
  {
   "cell_type": "code",
   "execution_count": 7,
   "id": "cfb9a9cc",
   "metadata": {},
   "outputs": [
    {
     "name": "stdout",
     "output_type": "stream",
     "text": [
      "Numbers!\n",
      "Numbers!\n",
      "Numbers!\n"
     ]
    }
   ],
   "source": [
    "times = 0\n",
    "while times < 3:\n",
    "    print(\"Numbers!\")\n",
    "    times += 1"
   ]
  },
  {
   "cell_type": "code",
   "execution_count": 8,
   "id": "cb892a97",
   "metadata": {},
   "outputs": [],
   "source": [
    "class SequenceIterator:\n",
    "    def __init__(self,sequence):\n",
    "        self._sequence = sequence\n",
    "        self._index = 0\n",
    "        \n",
    "    def __iter__(self):\n",
    "        return self\n",
    "    \n",
    "    def __next__(self):\n",
    "        if self._index < len(self._sequence):\n",
    "            item = self._sequence[self._index]\n",
    "            self._index += 1\n",
    "            return item\n",
    "        else:\n",
    "            raise StopIteration"
   ]
  },
  {
   "cell_type": "code",
   "execution_count": 11,
   "id": "aba81e0a",
   "metadata": {},
   "outputs": [
    {
     "name": "stdout",
     "output_type": "stream",
     "text": [
      "1\n",
      "2\n",
      "3\n",
      "4\n"
     ]
    }
   ],
   "source": [
    "\n",
    "for item in SequenceIterator([1,2,3,4]):\n",
    "    print(item)"
   ]
  },
  {
   "cell_type": "code",
   "execution_count": 12,
   "id": "4e82957c",
   "metadata": {},
   "outputs": [
    {
     "name": "stdout",
     "output_type": "stream",
     "text": [
      "1\n",
      "2\n",
      "3\n",
      "4\n"
     ]
    }
   ],
   "source": [
    "sequence = SequenceIterator([1,2,3,4])\n",
    "#Get an iterator over the data\n",
    "iter = sequence.__iter__()\n",
    "while True:\n",
    "    try:\n",
    "        #Retrieve the next item\n",
    "        item = iter.__next__()\n",
    "    except StopIteration:\n",
    "        break\n",
    "    else:\n",
    "        print(item)"
   ]
  },
  {
   "cell_type": "markdown",
   "id": "1423d566",
   "metadata": {},
   "source": [
    "# Transforming data using iteration"
   ]
  },
  {
   "cell_type": "code",
   "execution_count": 13,
   "id": "04833afc",
   "metadata": {},
   "outputs": [],
   "source": [
    "#Transforming the input data\n",
    "class SquareIterator:\n",
    "    def __init__(self,sequence):\n",
    "        self._sequence = sequence\n",
    "        self._index = 0\n",
    "        \n",
    "    def __iter__(self):\n",
    "        return self\n",
    "    \n",
    "    def __next__(self):\n",
    "        if self._index < len(self._sequence):\n",
    "            square = self._sequence[self._index] ** 2\n",
    "            self._index += 1\n",
    "            return square\n",
    "        else:\n",
    "            raise StopIteration"
   ]
  },
  {
   "cell_type": "code",
   "execution_count": 14,
   "id": "53d87fe9",
   "metadata": {},
   "outputs": [
    {
     "name": "stdout",
     "output_type": "stream",
     "text": [
      "1\n",
      "4\n",
      "9\n",
      "16\n"
     ]
    }
   ],
   "source": [
    "square_iter = SquareIterator([1,2,3,4])\n",
    "#Get an iterator over the data\n",
    "iter = square_iter.__iter__()\n",
    "while True:\n",
    "    try:\n",
    "        #Retrieve the next item\n",
    "        item = iter.__next__()\n",
    "    except StopIteration:\n",
    "        break\n",
    "    else:\n",
    "        print(item)"
   ]
  },
  {
   "cell_type": "markdown",
   "id": "9a2f2b39",
   "metadata": {},
   "source": [
    "# Generating new data using iteration"
   ]
  },
  {
   "cell_type": "code",
   "execution_count": 15,
   "id": "62ee3529",
   "metadata": {},
   "outputs": [],
   "source": [
    "class FibonnacciIterator:\n",
    "    def __init__(self,stop=10):\n",
    "        self._stop = stop\n",
    "        self._index = index\n",
    "        self._current = 0\n",
    "        self._next = 1\n",
    "        \n",
    "    def __iter__(self):\n",
    "        return self\n",
    "    \n",
    "    def __next__(self):\n",
    "        if self._index < self._stop:\n",
    "            self._index += 1\n",
    "            fib_number = self._current\n",
    "            self._current,self._next = (\n",
    "                self._next,\n",
    "                self._current + self._next,\n",
    "            )\n",
    "            return fib_number\n",
    "        else:\n",
    "            raise StopIteration"
   ]
  },
  {
   "cell_type": "code",
   "execution_count": null,
   "id": "a7ae3c13",
   "metadata": {},
   "outputs": [],
   "source": []
  }
 ],
 "metadata": {
  "kernelspec": {
   "display_name": "Python 3 (ipykernel)",
   "language": "python",
   "name": "python3"
  },
  "language_info": {
   "codemirror_mode": {
    "name": "ipython",
    "version": 3
   },
   "file_extension": ".py",
   "mimetype": "text/x-python",
   "name": "python",
   "nbconvert_exporter": "python",
   "pygments_lexer": "ipython3",
   "version": "3.10.9"
  }
 },
 "nbformat": 4,
 "nbformat_minor": 5
}
