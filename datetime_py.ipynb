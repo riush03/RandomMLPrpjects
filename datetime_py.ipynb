{
 "cells": [
  {
   "cell_type": "code",
   "execution_count": 2,
   "id": "893a3ade",
   "metadata": {},
   "outputs": [],
   "source": [
    "import pytz\n",
    "from datetime import datetime"
   ]
  },
  {
   "cell_type": "code",
   "execution_count": 4,
   "id": "ecba0250",
   "metadata": {},
   "outputs": [
    {
     "name": "stdout",
     "output_type": "stream",
     "text": [
      "2023-05-04 10:30:00+06:55\n"
     ]
    }
   ],
   "source": [
    "tz = pytz.timezone('Asia/Singapore')\n",
    "dt = datetime(2023,5,4,10,30,0,tzinfo=tz) #this create an aware datetime object for may 4,2023 at 10:30 AM\n",
    "print(dt)"
   ]
  },
  {
   "cell_type": "code",
   "execution_count": 5,
   "id": "ff23ddf4",
   "metadata": {},
   "outputs": [
    {
     "name": "stdout",
     "output_type": "stream",
     "text": [
      "2023-05-04 11:30:00+06:55\n"
     ]
    }
   ],
   "source": [
    "from datetime import timedelta\n",
    "offset = timedelta(hours=1)\n",
    "dt2 = dt+offset\n",
    "print(dt2)"
   ]
  },
  {
   "cell_type": "code",
   "execution_count": 14,
   "id": "0409f605",
   "metadata": {},
   "outputs": [
    {
     "name": "stdout",
     "output_type": "stream",
     "text": [
      "2023\n",
      "5\n",
      "4\n",
      "10\n",
      "30\n",
      "0\n",
      "0\n",
      "Asia/Singapore\n"
     ]
    }
   ],
   "source": [
    "#datetime attributes\n",
    "print(dt.year)\n",
    "print(dt.month)\n",
    "print(dt.day)\n",
    "print(dt.hour)\n",
    "print(dt.minute)\n",
    "print(dt.second)\n",
    "print(dt.microsecond)\n",
    "print(dt.tzinfo)"
   ]
  },
  {
   "cell_type": "code",
   "execution_count": 17,
   "id": "459a0043",
   "metadata": {},
   "outputs": [
    {
     "name": "stdout",
     "output_type": "stream",
     "text": [
      "2023-05-04T10:30:00+06:55\n",
      "datetime.IsoCalendarDate(year=2023, week=18, weekday=4)\n"
     ]
    },
    {
     "data": {
      "text/plain": [
       "datetime.datetime(2023, 1, 5, 0, 0)"
      ]
     },
     "execution_count": 17,
     "metadata": {},
     "output_type": "execute_result"
    }
   ],
   "source": [
    "#methods\n",
    "print(dt.isoformat())\n",
    "print(dt.isocalendar())\n",
    "datetime.fromisoformat(\"2023-01-05\")"
   ]
  },
  {
   "cell_type": "code",
   "execution_count": 19,
   "id": "0860cba7",
   "metadata": {},
   "outputs": [
    {
     "name": "stdout",
     "output_type": "stream",
     "text": [
      "2023-05-04\n"
     ]
    }
   ],
   "source": [
    "print(dt.strftime(\"%Y-%m-%d\"))"
   ]
  },
  {
   "cell_type": "code",
   "execution_count": null,
   "id": "833f94f1",
   "metadata": {},
   "outputs": [],
   "source": []
  }
 ],
 "metadata": {
  "kernelspec": {
   "display_name": "Python 3 (ipykernel)",
   "language": "python",
   "name": "python3"
  },
  "language_info": {
   "codemirror_mode": {
    "name": "ipython",
    "version": 3
   },
   "file_extension": ".py",
   "mimetype": "text/x-python",
   "name": "python",
   "nbconvert_exporter": "python",
   "pygments_lexer": "ipython3",
   "version": "3.10.9"
  }
 },
 "nbformat": 4,
 "nbformat_minor": 5
}
