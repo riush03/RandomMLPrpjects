{
 "cells": [
  {
   "cell_type": "code",
   "execution_count": 1,
   "id": "7b0cf732",
   "metadata": {},
   "outputs": [],
   "source": [
    "PROJECT_ID = ''\n",
    "BUCKET_NAME = ''\n",
    "DATASET_NAME = ''\n",
    "TRAIN_PATH = ''\n",
    "TEST_PATH = ''\n",
    "TARGET = 'cost'\n",
    "ID_COL = 'id'\n",
    "MODEL_NAME = 'media_market_model'\n",
    "TRAIN_BUDGET = 4000"
   ]
  },
  {
   "cell_type": "code",
   "execution_count": null,
   "id": "639c218b",
   "metadata": {},
   "outputs": [],
   "source": [
    "from automl_tables_wrapper import AutoMLTablesWrapper\n",
    "\n",
    "amw = AutoMLTablesWrapper(project_id=PROJECT_ID,\n",
    "                         bucket_name=BUCKET_NAME,\n",
    "                         dataset_name=DATASET_NAME,\n",
    "                         train_path=TRAIN_PATH,\n",
    "                         test_path=TEST_PATH,\n",
    "                         target_col=TARGET,\n",
    "                         id_col=ID_COL,\n",
    "                         model_name=MODEL_NAME,\n",
    "                         train_budget=TRAIN_BUDGET)"
   ]
  },
  {
   "cell_type": "code",
   "execution_count": null,
   "id": "38174883",
   "metadata": {},
   "outputs": [],
   "source": [
    "#create and train the model\n",
    "amw.train_model()\n",
    "#get predictions\n",
    "amw.get_predictions()"
   ]
  }
 ],
 "metadata": {
  "kernelspec": {
   "display_name": "Python 3 (ipykernel)",
   "language": "python",
   "name": "python3"
  },
  "language_info": {
   "codemirror_mode": {
    "name": "ipython",
    "version": 3
   },
   "file_extension": ".py",
   "mimetype": "text/x-python",
   "name": "python",
   "nbconvert_exporter": "python",
   "pygments_lexer": "ipython3",
   "version": "3.10.9"
  }
 },
 "nbformat": 4,
 "nbformat_minor": 5
}
