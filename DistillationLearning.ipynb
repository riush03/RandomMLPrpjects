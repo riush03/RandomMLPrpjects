{
 "cells": [
  {
   "cell_type": "markdown",
   "id": "2d434af1",
   "metadata": {},
   "source": [
    "<h2> Distillation Learning </h2>\n",
    "\n",
    "also known as Teacher-Student learning or model compression learning. It involves the usage of small efficient model(1.e student model) to learn from larger complex models(Teacher model)\n",
    "\n",
    "<b>Application of Distillation learning</b>\n",
    "<ul>\n",
    "    <li>Model compression</li>\n",
    "    <li>Transfer learning</li>\n",
    "    <li>Ensemble learning</li>\n",
    "    <li>Multi-task learning</li>\n",
    "    <li>Language models</li>\n",
    "    <li>Computer vision</li>\n",
    "    <li>Anomaly detection</li>\n",
    "    <li>Generative models</li>\n",
    "</ul>"
   ]
  },
  {
   "cell_type": "code",
   "execution_count": null,
   "id": "df2bad1b",
   "metadata": {},
   "outputs": [],
   "source": [
    "import tensorflow as tf"
   ]
  },
  {
   "cell_type": "code",
   "execution_count": null,
   "id": "344085c9",
   "metadata": {},
   "outputs": [],
   "source": [
    "#Load the MNIST dataset\n",
    "(x_train,y_train),(x_test,y_test) = tf.keras.datasets.mnist.load_data()\n",
    "\n",
    "#preprocess the data\n",
    "x_train = x_train.reshape(-1,784).astype('float32') / 255\n",
    "x_test = x_test.reshape(-1,784).astype('float32') / 255\n",
    "y_train = tf.keras.utils.to_categorical(y_train)\n",
    "y_test = tf.keras.utils.to_categorical(y_test)"
   ]
  },
  {
   "cell_type": "code",
   "execution_count": null,
   "id": "2c4096d6",
   "metadata": {},
   "outputs": [],
   "source": [
    "#The teacher model -> a larger and more complex neural network\n",
    "class TeacherModel(tf.keras.Model):\n",
    "    def __init__(self):\n",
    "        super(TeacherModel,self).__init__()\n",
    "        #define the layers of the teacher model\n",
    "        self.layer1 = tf.keras.layers.Dense(512,input_shape=(784),activation='relu')\n",
    "        self.layer2 = tf.keras.layers.Dense(256,activation='relu')\n",
    "        self.layer3 = tf.keras.layers.Dense(128,activation='relu')\n",
    "        self.layer4 = tf.keras.layers.Dense(64,activation='relu')\n",
    "        self.last = tf.keras.layers.Dense(10,activation='softmax')\n",
    "        \n",
    "    def call(self,x):\n",
    "        #foward pass for the teacher model\n",
    "        x = self.layer1(x)\n",
    "        x = self.layer2(x)\n",
    "        x = self.layer3(x)\n",
    "        x = self.layer4(x)\n",
    "        return self.last(x)"
   ]
  },
  {
   "cell_type": "code",
   "execution_count": null,
   "id": "863ed270",
   "metadata": {},
   "outputs": [],
   "source": [
    "#The student model  -> a small and more effecient neural network\n",
    "class StudentModel(tf.keras.Model):\n",
    "    def __init__(self):\n",
    "        super(StudentModel,self).__init__()\n",
    "        #define the layers of the student model\n",
    "        self.layer1 = tf.keras.layers.Dense(512,input_shape=(784),activation='relu')\n",
    "        self.layer2 = tf.keras.layers.Dense(256,activation='relu')\n",
    "        self.last = tf.keras.layers.Dense(10,activation='softmax')\n",
    "        \n",
    "    def call(self,x):\n",
    "        x = self.layer1(x)\n",
    "        x = self.layer2(X)\n",
    "        return self.last(x)"
   ]
  },
  {
   "cell_type": "code",
   "execution_count": null,
   "id": "7b84e70b",
   "metadata": {},
   "outputs": [],
   "source": [
    "#call the models and define the hperameters for training\n",
    "teacher_model = TeacherModel()\n",
    "\n",
    "#define the loss function and the optimizer\n",
    "loss_fn = tf.keras.losses.CategoricalCrossentropy()\n",
    "optimizer = tf.keras.optimizers.Adam()\n",
    "\n",
    "\n",
    "#train the teacher model\n",
    "teacher_model.compile(optimizer=optimizer,loss=loss_fn,metrics=['accuracy'])\n",
    "teacher_model.fit(x_train,y_train,epochs=5,batch_size=32,validation_data=(x_test,y_test))"
   ]
  },
  {
   "cell_type": "code",
   "execution_count": null,
   "id": "6b920c3f",
   "metadata": {},
   "outputs": [],
   "source": [
    "#freeze the teacher model and use it in the teacher model\n",
    "student_model = StudentModel()\n",
    "\n",
    "for layer in teacher_model.layers:\n",
    "    layer.trainable = False\n",
    "    \n",
    "#define the distillation loss function\n",
    "temp = 5\n",
    "def distillation_loss(y_true,y_pred):\n",
    "    y_true = tf.nn.softmax(y_true / temp)\n",
    "    y_pred = tf.nn.softmax(y_pred / temp)\n",
    "    return tf.reduce_mean(tf.keras.losses.categorical_crossentropy(y_true,y_pred))\n",
    "\n",
    "#train the srudent model\n",
    "student_model.compile(optimizer=optimizer,loss=distillation_loss,metrics=['accuracy'])\n",
    "student_model.fit(x_train,teacher_model.predict(x_train),epochs=5,batch_size=32,validation_data=(x_test,y_test))"
   ]
  },
  {
   "cell_type": "code",
   "execution_count": null,
   "id": "2fd1e991",
   "metadata": {},
   "outputs": [],
   "source": [
    "test_loss,test_acc = student_model.evaluate(x_test,y_test)\n",
    "print('Test Accurancy')"
   ]
  },
  {
   "cell_type": "markdown",
   "id": "9a1a7aaa",
   "metadata": {},
   "source": [
    "# Calculating Self Information"
   ]
  },
  {
   "cell_type": "code",
   "execution_count": 1,
   "id": "f678df0e",
   "metadata": {},
   "outputs": [
    {
     "ename": "ModuleNotFoundError",
     "evalue": "No module named 'mxnet'",
     "output_type": "error",
     "traceback": [
      "\u001b[1;31m---------------------------------------------------------------------------\u001b[0m",
      "\u001b[1;31mModuleNotFoundError\u001b[0m                       Traceback (most recent call last)",
      "Cell \u001b[1;32mIn[1], line 1\u001b[0m\n\u001b[1;32m----> 1\u001b[0m \u001b[38;5;28;01mfrom\u001b[39;00m \u001b[38;5;21;01mmxnet\u001b[39;00m \u001b[38;5;28;01mimport\u001b[39;00m np\n",
      "\u001b[1;31mModuleNotFoundError\u001b[0m: No module named 'mxnet'"
     ]
    }
   ],
   "source": [
    "from mxnet import np"
   ]
  },
  {
   "cell_type": "code",
   "execution_count": null,
   "id": "5f28e29d",
   "metadata": {},
   "outputs": [],
   "source": []
  }
 ],
 "metadata": {
  "kernelspec": {
   "display_name": "Python 3 (ipykernel)",
   "language": "python",
   "name": "python3"
  },
  "language_info": {
   "codemirror_mode": {
    "name": "ipython",
    "version": 3
   },
   "file_extension": ".py",
   "mimetype": "text/x-python",
   "name": "python",
   "nbconvert_exporter": "python",
   "pygments_lexer": "ipython3",
   "version": "3.10.9"
  }
 },
 "nbformat": 4,
 "nbformat_minor": 5
}
