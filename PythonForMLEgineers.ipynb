{
 "cells": [
  {
   "cell_type": "code",
   "execution_count": 2,
   "id": "8ff83640",
   "metadata": {},
   "outputs": [
    {
     "name": "stdout",
     "output_type": "stream",
     "text": [
      "['Zdaay', 'Tonny']\n"
     ]
    }
   ],
   "source": [
    "#list and set comprehension\n",
    "clients = [(\"John\",500000),\n",
    "           (\"Doe\",55000),\n",
    "           (\"Zdaay\",1250000),\n",
    "           (\"Tonny\",1050000)]\n",
    "\n",
    "#client earnig more than ->$1M\n",
    "high_pay = [x for x,y in clients if y>1000000]\n",
    "print(high_pay)"
   ]
  },
  {
   "cell_type": "code",
   "execution_count": 3,
   "id": "6ced7c36",
   "metadata": {},
   "outputs": [
    {
     "name": "stdout",
     "output_type": "stream",
     "text": [
      "[('Andrew', 1000000), ('Pilato', 1400000)]\n"
     ]
    }
   ],
   "source": [
    "#dictinary comprehension\n",
    "employees = {\n",
    "      'Andrew':1000000,\n",
    "      'Ben':500000,\n",
    "      'Carol':700000,\n",
    "      'Pilato':1400000\n",
    "}\n",
    "\n",
    "top_earns = [(k,v) for k,v in employees.items() if v >= 1000000]\n",
    "print(top_earns)"
   ]
  },
  {
   "cell_type": "code",
   "execution_count": 4,
   "id": "81d16b2b",
   "metadata": {},
   "outputs": [
    {
     "name": "stdout",
     "output_type": "stream",
     "text": [
      "[[], ['behavior', 'compiler', 'configured', 'using', 'additional', 'arguments,', 'although', 'default'], ['settings', 'sufficient', 'most', 'projects.', 'most', 'useful', 'which', 'forces', 'complete', 'rebuild'], ['even', 'files', 'that', 'have', 'changed,', 'which', 'specifies', 'name', 'compiled', 'output', 'file.'], ['help', 'build', 'command', 'full', 'list', 'options', 'available'], []]\n"
     ]
    }
   ],
   "source": [
    "#list text data comprehension\n",
    "text_data = '''\n",
    "    The behavior of the Go compiler can be configured using additional arguments, although the default \n",
    "settings are sufficient for most projects. The two most useful are -a, which forces a complete rebuild \n",
    "even for files that have not changed, and -o, which specifies the name of the compiled output file. \n",
    "Use the go help build command to see the full list of options available\n",
    "'''\n",
    "\n",
    "w = [[x for x in line.split() if len(x)>3] for line in text_data.split('\\n')]\n",
    "print(w)"
   ]
  },
  {
   "cell_type": "code",
   "execution_count": 6,
   "id": "a8ae3f7c",
   "metadata": {},
   "outputs": [
    {
     "name": "stdout",
     "output_type": "stream",
     "text": [
      "<map object at 0x000001896B8766E0>\n"
     ]
    }
   ],
   "source": [
    "txt_data = ['The behavior of the Go compiler.',\n",
    "           'can be configured using additional arguments.',\n",
    "           'although the default settings are sufficient for most projects.']\n",
    "\n",
    "mark = map(lambda s: (True, s) if ' compiler' in s else (False,s), txt_data)\n",
    "print(mark)"
   ]
  },
  {
   "cell_type": "code",
   "execution_count": 20,
   "id": "84688f5d",
   "metadata": {},
   "outputs": [
    {
     "name": "stdout",
     "output_type": "stream",
     "text": [
      "Using a custom generator [[0, 1, 2], [3, 4, 5], [6, 7, 8], [9]]\n",
      "Generator comprehension [[0, 1, 2], [3, 4, 5], [6, 7, 8], [9]]\n",
      "List comprehension [[0, 1, 2], [3, 4, 5], [6, 7, 8], [9]]\n",
      "Using itertools.zip_longest  [(0, 1, 2), (3, 4, 5), (6, 7, 8), (9, None, None)]\n",
      "Using itertools.isslice [(0, 1, 2), (3, 4, 5), (6, 7, 8), (9,)]\n"
     ]
    }
   ],
   "source": [
    "#equally spplit list into equally sized chucnks\n",
    "#1. By implementing your own generator\n",
    "my_list = list(range(10))\n",
    "\n",
    "def chunk(lst,n):\n",
    "    for i in range(0,len(lst),n):\n",
    "        yield lst[i:i+n]\n",
    "    \n",
    "chunks = list(chunk(my_list,3))\n",
    "print(\"Using a custom generator\",chunks)\n",
    "\n",
    "#2 using a one-liner\n",
    "m =3\n",
    "#Generator comprehension\n",
    "one_chunks = (my_list[i:i+m] for i in range(0,len(my_list),m))\n",
    "print(\"Generator comprehension\",list(one_chunks))\n",
    "\n",
    "#list comprehesion\n",
    "list_chunks = [my_list[i:i+m] for i in range(0,len(my_list),m)]\n",
    "print(\"List comprehension\",list_chunks)\n",
    "\n",
    "#3 Using itertools.zip_longest\n",
    "from itertools import zip_longest\n",
    "\n",
    "def iter_chunk(lst,n):\n",
    "    return zip_longest(*[iter(lst)]*n,fillvalue=None)\n",
    "\n",
    "iter_chunks = list(iter_chunk(my_list,3))\n",
    "print(\"Using itertools.zip_longest \",iter_chunks)\n",
    "\n",
    "#4. Using itertools.isslice\n",
    "from itertools import islice\n",
    "\n",
    "def slice_chunk(lst,n):\n",
    "    it = iter(lst)\n",
    "    return iter(lambda: tuple(islice(it,n)),())\n",
    "\n",
    "sliece_chunks = list(slice_chunk(my_list,3))\n",
    "print(\"Using itertools.isslice\",sliece_chunks)\n",
    "\n",
    "#5 using itertools.batched\n",
    "#from itertools import batched\n",
    "\n",
    "#batch_chunks = list(batched(my_list,3))\n",
    "#print(\"Using itertools.batched\",batch_chunks)"
   ]
  },
  {
   "cell_type": "code",
   "execution_count": 24,
   "id": "2d0f4597",
   "metadata": {},
   "outputs": [
    {
     "name": "stdout",
     "output_type": "stream",
     "text": [
      "{'b': 2, 'd': 4}\n"
     ]
    },
    {
     "data": {
      "text/plain": [
       "4"
      ]
     },
     "execution_count": 24,
     "metadata": {},
     "output_type": "execute_result"
    }
   ],
   "source": [
    "#Deleting a key from the dictionary\n",
    "#1. Using del keyword\n",
    "data = {'a':1,'b':2,'d':4}\n",
    "del data['a']\n",
    "print(data)\n",
    "\n",
    "if 'c' in data:\n",
    "    del data['c']\n",
    "\n",
    "try:\n",
    "    del data['c']\n",
    "except KeyError:\n",
    "    pass\n",
    "\n",
    "#2. using pop keyword\n",
    "data.pop('d',None)"
   ]
  },
  {
   "cell_type": "code",
   "execution_count": 28,
   "id": "0b3b081e",
   "metadata": {},
   "outputs": [
    {
     "ename": "SyntaxError",
     "evalue": "incomplete input (1023304043.py, line 22)",
     "output_type": "error",
     "traceback": [
      "\u001b[1;36m  Cell \u001b[1;32mIn[28], line 22\u001b[1;36m\u001b[0m\n\u001b[1;33m    #do something\u001b[0m\n\u001b[1;37m                 ^\u001b[0m\n\u001b[1;31mSyntaxError\u001b[0m\u001b[1;31m:\u001b[0m incomplete input\n"
     ]
    }
   ],
   "source": [
    "#Writing a context mananger\n",
    "\n",
    "#1. Use contextlib.contextmanager decorator\n",
    "\"\"\"\n",
    "    This how we write it\n",
    "      ->decorate a function with @contextmanager\n",
    "      ->use a try-finally block\n",
    "      ->the try block must yield the source\n",
    "      ->the finally block is used to free the resource\n",
    "\"\"\"\n",
    "from contextlib import contextmanager\n",
    "\n",
    "@contextmanager\n",
    "def managed_resource(*args,**kwargs):\n",
    "    resource = acquire_resource(*args,**kwargs)\n",
    "    try:\n",
    "        yield resource\n",
    "    finally:\n",
    "        release_resource(resource)\n",
    "        \n",
    "with managed_resource(timeout=3600) as resource:\n",
    "   #do something"
   ]
  },
  {
   "cell_type": "code",
   "execution_count": 29,
   "id": "f1fb0226",
   "metadata": {},
   "outputs": [
    {
     "data": {
      "image/png": "[encoded data removed]",
      "text/plain": [
       "<Figure size 640x480 with 1 Axes>"
      ]
     },
     "metadata": {},
     "output_type": "display_data"
    }
   ],
   "source": [
    "import matplotlib.pyplot as plt\n",
    "\n",
    "cardiac_cycles = [62,60,62,64,68,77,80,76,71,66,61,60,62]\n",
    "\n",
    "expected_cycles = cardiac_cycles[1:-2]*10\n",
    "\n",
    "plt.plot(expected_cycles)\n",
    "plt.show()"
   ]
  },
  {
   "cell_type": "code",
   "execution_count": null,
   "id": "ad068393",
   "metadata": {},
   "outputs": [],
   "source": [
    "#handling images\n",
    "# 1 Remove image background\n",
    "#!pip install rembg || pip install rembg[gpu]\n",
    "\"\"\"\n",
    "import PIL\n",
    "PIL.__version__\n",
    "\n",
    "from rembg import remove\n",
    "\n",
    "input_path = ''\n",
    "output_path = ''\n",
    "\n",
    "with open(input_path,'rb') as i:\n",
    "   with open(output_path,'wb') as o:\n",
    "      input = i.read()\n",
    "      output = remove(input)\n",
    "      o.write(output)\n",
    "\"\"\""
   ]
  },
  {
   "cell_type": "code",
   "execution_count": 37,
   "id": "69fc9821",
   "metadata": {},
   "outputs": [
    {
     "name": "stdout",
     "output_type": "stream",
     "text": [
      "Using time.time() 0.0\n",
      "Using timeit.default_timer() 4.3199994252063334e-05\n",
      "Usage in code 0.026254900003550574\n",
      "Showing usage in notebooks\n",
      "4.89 µs ± 324 ns per loop (mean ± std. dev. of 7 runs, 1,000 loops each)\n",
      "test_func_time() executed in 0.000072s\n"
     ]
    }
   ],
   "source": [
    "#measuring elapsed time\n",
    "#1 Use time.time()\n",
    "import time\n",
    "\n",
    "start = time.time()\n",
    "end = time.time()\n",
    "print(\"Using time.time()\",end-start)\n",
    "\n",
    "#2 use timeit.default_timer()\n",
    "from timeit import default_timer as timer\n",
    "\n",
    "start_it = timer()\n",
    "end_it = timer()\n",
    "print(\"Using timeit.default_timer()\",end_it - start_it)\n",
    "\n",
    "#Using timeit in code\n",
    "import timeit\n",
    "print(\"Usage in code\",timeit.timeit(lambda: \"-\".join(map(str,range(100))),number=1000))\n",
    "\n",
    "#Using in juypter notebook\n",
    "def cell_runtime():\n",
    "    for i in range(100): i+1\n",
    "print(\"Showing usage in notebooks\")\n",
    "%timeit -n 1000 cell_runtime()\n",
    "\n",
    "#Using decorator to measure time of a function\n",
    "def func_timer(func):\n",
    "    def wrapper(*args,**kwargs):\n",
    "        t1 = timer()\n",
    "        result = func(*args,**kwargs)\n",
    "        t2 = timer()\n",
    "        print(f'{func.__name__}() executed in {(t2-t1):.6f}s')\n",
    "        return result\n",
    "    return wrapper\n",
    "\n",
    "#then this decorator can be applied to all functions as follows\n",
    "@func_timer\n",
    "def test_func_time():\n",
    "    for i in range(1000): i * 1\n",
    "test_func_time()"
   ]
  },
  {
   "cell_type": "code",
   "execution_count": 39,
   "id": "85cd5d92",
   "metadata": {},
   "outputs": [
    {
     "name": "stdout",
     "output_type": "stream",
     "text": [
      "[1, 2, 3, 4, 5, 6]\n",
      "[1, 2, 3, 4, 5, 6]\n",
      "# Using copy\n",
      "[[1, 2, 99], [3, 4]]\n",
      "[[1, 2], [3, 4]]\n"
     ]
    }
   ],
   "source": [
    "#copying a list\n",
    "a = [1,2,3,4,5]\n",
    "b = a\n",
    "b.append(6)\n",
    "print(b)\n",
    "print(a)\n",
    "\n",
    "#using deepcopy\n",
    "import copy\n",
    "\n",
    "d = [[1,2],[3,4]]\n",
    "c = copy.deepcopy(d)\n",
    "c[0].append(99)\n",
    "print(\"# Using copy\")\n",
    "print(c)\n",
    "print(d)"
   ]
  },
  {
   "cell_type": "code",
   "execution_count": null,
   "id": "d0d297da",
   "metadata": {},
   "outputs": [],
   "source": []
  }
 ],
 "metadata": {
  "kernelspec": {
   "display_name": "Python 3 (ipykernel)",
   "language": "python",
   "name": "python3"
  },
  "language_info": {
   "codemirror_mode": {
    "name": "ipython",
    "version": 3
   },
   "file_extension": ".py",
   "mimetype": "text/x-python",
   "name": "python",
   "nbconvert_exporter": "python",
   "pygments_lexer": "ipython3",
   "version": "3.10.9"
  }
 },
 "nbformat": 4,
 "nbformat_minor": 5
}
